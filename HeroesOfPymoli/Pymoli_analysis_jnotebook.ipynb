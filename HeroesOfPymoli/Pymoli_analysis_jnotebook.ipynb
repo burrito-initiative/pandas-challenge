{
 "cells": [
  {
   "cell_type": "markdown",
   "metadata": {},
   "source": [
    "# Still Working On:\n",
    "\n",
    "## Purchasing Analysis (Gender)\n",
    "    The below each broken by gender\n",
    "        # Average Purchase Total per Person by Gender ****"
   ]
  },
  {
   "cell_type": "code",
   "execution_count": 1,
   "metadata": {},
   "outputs": [],
   "source": [
    "#Import Dependencies\n",
    "import pandas as pd\n",
    "import numpy as np"
   ]
  },
  {
   "cell_type": "code",
   "execution_count": 2,
   "metadata": {},
   "outputs": [],
   "source": [
    "#Import file\n",
    "csv_file = \"Resources/purchase_data.csv\"\n",
    "purchase_data_df = pd.read_csv(csv_file)"
   ]
  },
  {
   "cell_type": "code",
   "execution_count": 3,
   "metadata": {},
   "outputs": [
    {
     "data": {
      "text/html": [
       "<div>\n",
       "<style scoped>\n",
       "    .dataframe tbody tr th:only-of-type {\n",
       "        vertical-align: middle;\n",
       "    }\n",
       "\n",
       "    .dataframe tbody tr th {\n",
       "        vertical-align: top;\n",
       "    }\n",
       "\n",
       "    .dataframe thead th {\n",
       "        text-align: right;\n",
       "    }\n",
       "</style>\n",
       "<table border=\"1\" class=\"dataframe\">\n",
       "  <thead>\n",
       "    <tr style=\"text-align: right;\">\n",
       "      <th></th>\n",
       "      <th>Purchase ID</th>\n",
       "      <th>SN</th>\n",
       "      <th>Age</th>\n",
       "      <th>Gender</th>\n",
       "      <th>Item ID</th>\n",
       "      <th>Item Name</th>\n",
       "      <th>Price</th>\n",
       "    </tr>\n",
       "  </thead>\n",
       "  <tbody>\n",
       "    <tr>\n",
       "      <th>0</th>\n",
       "      <td>0</td>\n",
       "      <td>Lisim78</td>\n",
       "      <td>20</td>\n",
       "      <td>Male</td>\n",
       "      <td>108</td>\n",
       "      <td>Extraction, Quickblade Of Trembling Hands</td>\n",
       "      <td>3.53</td>\n",
       "    </tr>\n",
       "    <tr>\n",
       "      <th>1</th>\n",
       "      <td>1</td>\n",
       "      <td>Lisovynya38</td>\n",
       "      <td>40</td>\n",
       "      <td>Male</td>\n",
       "      <td>143</td>\n",
       "      <td>Frenzied Scimitar</td>\n",
       "      <td>1.56</td>\n",
       "    </tr>\n",
       "    <tr>\n",
       "      <th>2</th>\n",
       "      <td>2</td>\n",
       "      <td>Ithergue48</td>\n",
       "      <td>24</td>\n",
       "      <td>Male</td>\n",
       "      <td>92</td>\n",
       "      <td>Final Critic</td>\n",
       "      <td>4.88</td>\n",
       "    </tr>\n",
       "    <tr>\n",
       "      <th>3</th>\n",
       "      <td>3</td>\n",
       "      <td>Chamassasya86</td>\n",
       "      <td>24</td>\n",
       "      <td>Male</td>\n",
       "      <td>100</td>\n",
       "      <td>Blindscythe</td>\n",
       "      <td>3.27</td>\n",
       "    </tr>\n",
       "    <tr>\n",
       "      <th>4</th>\n",
       "      <td>4</td>\n",
       "      <td>Iskosia90</td>\n",
       "      <td>23</td>\n",
       "      <td>Male</td>\n",
       "      <td>131</td>\n",
       "      <td>Fury</td>\n",
       "      <td>1.44</td>\n",
       "    </tr>\n",
       "  </tbody>\n",
       "</table>\n",
       "</div>"
      ],
      "text/plain": [
       "   Purchase ID             SN  Age Gender  Item ID  \\\n",
       "0            0        Lisim78   20   Male      108   \n",
       "1            1    Lisovynya38   40   Male      143   \n",
       "2            2     Ithergue48   24   Male       92   \n",
       "3            3  Chamassasya86   24   Male      100   \n",
       "4            4      Iskosia90   23   Male      131   \n",
       "\n",
       "                                   Item Name  Price  \n",
       "0  Extraction, Quickblade Of Trembling Hands   3.53  \n",
       "1                          Frenzied Scimitar   1.56  \n",
       "2                               Final Critic   4.88  \n",
       "3                                Blindscythe   3.27  \n",
       "4                                       Fury   1.44  "
      ]
     },
     "execution_count": 3,
     "metadata": {},
     "output_type": "execute_result"
    }
   ],
   "source": [
    "#Preview dataframe\n",
    "purchase_data_df.head()"
   ]
  },
  {
   "cell_type": "code",
   "execution_count": 4,
   "metadata": {},
   "outputs": [
    {
     "name": "stdout",
     "output_type": "stream",
     "text": [
      "Total Players: 576\n"
     ]
    }
   ],
   "source": [
    "# Player Count\n",
    "total_unique_players = purchase_data_df[\"SN\"].nunique()\n",
    "print(f\"Total Players: {total_unique_players}\")"
   ]
  },
  {
   "cell_type": "markdown",
   "metadata": {},
   "source": [
    "## Purchasing Analysis (Total)\n",
    "    # Number of Unique Items\n",
    "    # Average Purchase Price\n",
    "    # Total Number of Purchases\n",
    "    # Total Revenue"
   ]
  },
  {
   "cell_type": "code",
   "execution_count": 5,
   "metadata": {},
   "outputs": [
    {
     "name": "stdout",
     "output_type": "stream",
     "text": [
      "~ PURCHASING ANALYSIS ~\n",
      "Number of Unique Items: 183\n",
      "Average purchase price: $3.05\n",
      "Number of Transactions: 780\n",
      "Total Revenue: $2379.77\n"
     ]
    }
   ],
   "source": [
    "# Collect information\n",
    "unique_items = purchase_data_df[\"Item ID\"].nunique()\n",
    "total_rev = purchase_data_df[\"Price\"].sum()\n",
    "purchase_count = purchase_data_df[\"Item ID\"].count()\n",
    "avg_purchase = np.round((total_rev/purchase_count),2)\n",
    "\n",
    "# Display resutls\n",
    "print(\"~ PURCHASING ANALYSIS ~\")\n",
    "print(f\"Number of Unique Items: {unique_items}\")\n",
    "print(f\"Average purchase price: ${avg_purchase}\")\n",
    "print(f\"Number of Transactions: {purchase_count}\")\n",
    "print(f\"Total Revenue: ${total_rev}\")"
   ]
  },
  {
   "cell_type": "markdown",
   "metadata": {},
   "source": [
    "# Gender Demographics\n",
    "    # Percentage and Count of Male Players\n",
    "    # Percentage and Count of Female Players\n",
    "    # Percentage and Count of Other / Non-Disclosed"
   ]
  },
  {
   "cell_type": "code",
   "execution_count": 6,
   "metadata": {},
   "outputs": [
    {
     "data": {
      "text/html": [
       "<style  type=\"text/css\" >\n",
       "</style><table id=\"T_fa28b2d0_17ab_11ea_a7a2_5c260a708970\" ><thead>    <tr>        <th class=\"blank level0\" ></th>        <th class=\"col_heading level0 col0\" >Number of Players</th>        <th class=\"col_heading level0 col1\" >Percent of Players</th>    </tr></thead><tbody>\n",
       "                <tr>\n",
       "                        <th id=\"T_fa28b2d0_17ab_11ea_a7a2_5c260a708970level0_row0\" class=\"row_heading level0 row0\" >Male</th>\n",
       "                        <td id=\"T_fa28b2d0_17ab_11ea_a7a2_5c260a708970row0_col0\" class=\"data row0 col0\" >652</td>\n",
       "                        <td id=\"T_fa28b2d0_17ab_11ea_a7a2_5c260a708970row0_col1\" class=\"data row0 col1\" >83.59%</td>\n",
       "            </tr>\n",
       "            <tr>\n",
       "                        <th id=\"T_fa28b2d0_17ab_11ea_a7a2_5c260a708970level0_row1\" class=\"row_heading level0 row1\" >Female</th>\n",
       "                        <td id=\"T_fa28b2d0_17ab_11ea_a7a2_5c260a708970row1_col0\" class=\"data row1 col0\" >113</td>\n",
       "                        <td id=\"T_fa28b2d0_17ab_11ea_a7a2_5c260a708970row1_col1\" class=\"data row1 col1\" >14.49%</td>\n",
       "            </tr>\n",
       "            <tr>\n",
       "                        <th id=\"T_fa28b2d0_17ab_11ea_a7a2_5c260a708970level0_row2\" class=\"row_heading level0 row2\" >Other / Non-Disclosed</th>\n",
       "                        <td id=\"T_fa28b2d0_17ab_11ea_a7a2_5c260a708970row2_col0\" class=\"data row2 col0\" >15</td>\n",
       "                        <td id=\"T_fa28b2d0_17ab_11ea_a7a2_5c260a708970row2_col1\" class=\"data row2 col1\" >1.92%</td>\n",
       "            </tr>\n",
       "    </tbody></table>"
      ],
      "text/plain": [
       "<pandas.io.formats.style.Styler at 0x2cef4b1e470>"
      ]
     },
     "execution_count": 6,
     "metadata": {},
     "output_type": "execute_result"
    }
   ],
   "source": [
    "# Create list of values\n",
    "gender_player_count = purchase_data_df[\"Gender\"].value_counts()\n",
    "all_player_count = purchase_data_df[\"Item ID\"].count()\n",
    "player_percent = gender_player_count/all_player_count\n",
    "\n",
    "# Create Df from lists\n",
    "gender_df = pd.DataFrame({\"Number of Players\": gender_player_count,\"Percent of Players\": player_percent})\n",
    "\n",
    "# Format DF\n",
    "format_dict = {\"Percent of Players\":\"{0:,.2%}\"}\n",
    "\n",
    "# Select columns with gender count as the DF index (by listing first) \n",
    "gender_df[[\"Number of Players\",\"Percent of Players\"]]\n",
    "\n",
    "# Print\n",
    "gender_df.style.format(format_dict)"
   ]
  },
  {
   "cell_type": "markdown",
   "metadata": {},
   "source": [
    "# Purchasing Analysis (Gender)\n",
    "    # The below each broken by gender\n",
    "        # Purchase Count\n",
    "        # Average Purchase Price\n",
    "        # Total Purchase Value\n",
    "        # Average Purchase Total per Person by Gender"
   ]
  },
  {
   "cell_type": "code",
   "execution_count": 64,
   "metadata": {},
   "outputs": [
    {
     "name": "stdout",
     "output_type": "stream",
     "text": [
      "Purchasing Analysis\n"
     ]
    },
    {
     "data": {
      "text/html": [
       "<style  type=\"text/css\" >\n",
       "</style><table id=\"T_a41b2126_17b1_11ea_98c8_5c260a708970\" ><thead>    <tr>        <th class=\"blank level0\" ></th>        <th class=\"col_heading level0 col0\" >Number of Purchases</th>        <th class=\"col_heading level0 col1\" >Total Revenue</th>        <th class=\"col_heading level0 col2\" >Average Purchase</th>        <th class=\"col_heading level0 col3\" >Average Purchase by Person</th>    </tr>    <tr>        <th class=\"index_name level0\" >Gender</th>        <th class=\"blank\" ></th>        <th class=\"blank\" ></th>        <th class=\"blank\" ></th>        <th class=\"blank\" ></th>    </tr></thead><tbody>\n",
       "                <tr>\n",
       "                        <th id=\"T_a41b2126_17b1_11ea_98c8_5c260a708970level0_row0\" class=\"row_heading level0 row0\" >Female</th>\n",
       "                        <td id=\"T_a41b2126_17b1_11ea_98c8_5c260a708970row0_col0\" class=\"data row0 col0\" >113</td>\n",
       "                        <td id=\"T_a41b2126_17b1_11ea_98c8_5c260a708970row0_col1\" class=\"data row0 col1\" >$361.94</td>\n",
       "                        <td id=\"T_a41b2126_17b1_11ea_98c8_5c260a708970row0_col2\" class=\"data row0 col2\" >$3.20</td>\n",
       "                        <td id=\"T_a41b2126_17b1_11ea_98c8_5c260a708970row0_col3\" class=\"data row0 col3\" >$4.47</td>\n",
       "            </tr>\n",
       "            <tr>\n",
       "                        <th id=\"T_a41b2126_17b1_11ea_98c8_5c260a708970level0_row1\" class=\"row_heading level0 row1\" >Male</th>\n",
       "                        <td id=\"T_a41b2126_17b1_11ea_98c8_5c260a708970row1_col0\" class=\"data row1 col0\" >652</td>\n",
       "                        <td id=\"T_a41b2126_17b1_11ea_98c8_5c260a708970row1_col1\" class=\"data row1 col1\" >$1,967.64</td>\n",
       "                        <td id=\"T_a41b2126_17b1_11ea_98c8_5c260a708970row1_col2\" class=\"data row1 col2\" >$3.02</td>\n",
       "                        <td id=\"T_a41b2126_17b1_11ea_98c8_5c260a708970row1_col3\" class=\"data row1 col3\" >$4.07</td>\n",
       "            </tr>\n",
       "            <tr>\n",
       "                        <th id=\"T_a41b2126_17b1_11ea_98c8_5c260a708970level0_row2\" class=\"row_heading level0 row2\" >Other / Non-Disclosed</th>\n",
       "                        <td id=\"T_a41b2126_17b1_11ea_98c8_5c260a708970row2_col0\" class=\"data row2 col0\" >15</td>\n",
       "                        <td id=\"T_a41b2126_17b1_11ea_98c8_5c260a708970row2_col1\" class=\"data row2 col1\" >$50.19</td>\n",
       "                        <td id=\"T_a41b2126_17b1_11ea_98c8_5c260a708970row2_col2\" class=\"data row2 col2\" >$3.35</td>\n",
       "                        <td id=\"T_a41b2126_17b1_11ea_98c8_5c260a708970row2_col3\" class=\"data row2 col3\" >$4.56</td>\n",
       "            </tr>\n",
       "    </tbody></table>"
      ],
      "text/plain": [
       "<pandas.io.formats.style.Styler at 0x2cef578b6a0>"
      ]
     },
     "execution_count": 64,
     "metadata": {},
     "output_type": "execute_result"
    }
   ],
   "source": [
    "# Create DF with purchase information by gender\n",
    "purchase_df = purchase_data_df.groupby(\"Gender\")[\"Price\"].agg([\"count\",\"sum\",\"mean\"])\n",
    "\n",
    "# # # # # # # # # # # # # # # \n",
    "# Special Report by Name by Gender\n",
    "avg_person_spend = purchase_data_df.groupby([\"SN\",\"Gender\"])[\"Price\"].sum()\n",
    "avg_person_spend_x_gender = avg_person_spend.groupby(\"Gender\").mean()\n",
    "avg_person_spend_x_gender # <-- list\n",
    "# Merge back into purchase_df\n",
    "purchase_df = pd.merge(purchase_df, avg_person_spend_x_gender, on=\"Gender\")\n",
    "\n",
    "# Rename columns\n",
    "purchase_df = purchase_df.rename(columns={\n",
    "    \"mean\":\"Average Purchase\",\n",
    "    \"sum\":\"Total Revenue\",\n",
    "    \"count\":\"Number of Purchases\",\n",
    "    \"Price\":\"Average Purchase by Person\"})\n",
    "\n",
    "# Format columns\n",
    "format_dict = {\n",
    "    \"Total Revenue\":\"${0:,.2f}\", \n",
    "    \"Average Purchase\":\"${0:,.2f}\",\n",
    "    \"Average Purchase by Person\":\"${0:,.2f}\"}\n",
    "purchase_df = purchase_df.style.format(format_dict)\n",
    "\n",
    "# Print\n",
    "print(\"Purchasing Analysis\")\n",
    "purchase_df"
   ]
  },
  {
   "cell_type": "markdown",
   "metadata": {},
   "source": [
    "# Age Demographics\n",
    "    # The below each broken into bins of 4 years (i.e. <10, 10-14, 15-19, etc.)\n",
    "        # Purchase Count\n",
    "        # Average Purchase Price\n",
    "        # Total Purchase Value\n",
    "        # Average Purchase Total per Person by Age Group"
   ]
  },
  {
   "cell_type": "code",
   "execution_count": 17,
   "metadata": {},
   "outputs": [
    {
     "name": "stdout",
     "output_type": "stream",
     "text": [
      "Age Demograpics\n"
     ]
    },
    {
     "data": {
      "text/html": [
       "<style  type=\"text/css\" >\n",
       "</style><table id=\"T_b41bf468_17ac_11ea_a0b5_5c260a708970\" ><thead>    <tr>        <th class=\"blank level0\" ></th>        <th class=\"col_heading level0 col0\" >Purchase Count</th>        <th class=\"col_heading level0 col1\" >Average Purchase</th>        <th class=\"col_heading level0 col2\" >Total Revenue</th>    </tr>    <tr>        <th class=\"index_name level0\" >Age Group</th>        <th class=\"blank\" ></th>        <th class=\"blank\" ></th>        <th class=\"blank\" ></th>    </tr></thead><tbody>\n",
       "                <tr>\n",
       "                        <th id=\"T_b41bf468_17ac_11ea_a0b5_5c260a708970level0_row0\" class=\"row_heading level0 row0\" >12 & Under</th>\n",
       "                        <td id=\"T_b41bf468_17ac_11ea_a0b5_5c260a708970row0_col0\" class=\"data row0 col0\" >45</td>\n",
       "                        <td id=\"T_b41bf468_17ac_11ea_a0b5_5c260a708970row0_col1\" class=\"data row0 col1\" >$3.19</td>\n",
       "                        <td id=\"T_b41bf468_17ac_11ea_a0b5_5c260a708970row0_col2\" class=\"data row0 col2\" >$143.55</td>\n",
       "            </tr>\n",
       "            <tr>\n",
       "                        <th id=\"T_b41bf468_17ac_11ea_a0b5_5c260a708970level0_row1\" class=\"row_heading level0 row1\" >13-18 (High School)</th>\n",
       "                        <td id=\"T_b41bf468_17ac_11ea_a0b5_5c260a708970row1_col0\" class=\"data row1 col0\" >119</td>\n",
       "                        <td id=\"T_b41bf468_17ac_11ea_a0b5_5c260a708970row1_col1\" class=\"data row1 col1\" >$3.02</td>\n",
       "                        <td id=\"T_b41bf468_17ac_11ea_a0b5_5c260a708970row1_col2\" class=\"data row1 col2\" >$359.27</td>\n",
       "            </tr>\n",
       "            <tr>\n",
       "                        <th id=\"T_b41bf468_17ac_11ea_a0b5_5c260a708970level0_row2\" class=\"row_heading level0 row2\" >19-23 (College)</th>\n",
       "                        <td id=\"T_b41bf468_17ac_11ea_a0b5_5c260a708970row2_col0\" class=\"data row2 col0\" >321</td>\n",
       "                        <td id=\"T_b41bf468_17ac_11ea_a0b5_5c260a708970row2_col1\" class=\"data row2 col1\" >$3.03</td>\n",
       "                        <td id=\"T_b41bf468_17ac_11ea_a0b5_5c260a708970row2_col2\" class=\"data row2 col2\" >$973.82</td>\n",
       "            </tr>\n",
       "            <tr>\n",
       "                        <th id=\"T_b41bf468_17ac_11ea_a0b5_5c260a708970level0_row3\" class=\"row_heading level0 row3\" >24-34 (Post Grad)</th>\n",
       "                        <td id=\"T_b41bf468_17ac_11ea_a0b5_5c260a708970row3_col0\" class=\"data row3 col0\" >241</td>\n",
       "                        <td id=\"T_b41bf468_17ac_11ea_a0b5_5c260a708970row3_col1\" class=\"data row3 col1\" >$2.98</td>\n",
       "                        <td id=\"T_b41bf468_17ac_11ea_a0b5_5c260a708970row3_col2\" class=\"data row3 col2\" >$717.22</td>\n",
       "            </tr>\n",
       "            <tr>\n",
       "                        <th id=\"T_b41bf468_17ac_11ea_a0b5_5c260a708970level0_row4\" class=\"row_heading level0 row4\" >Over 35</th>\n",
       "                        <td id=\"T_b41bf468_17ac_11ea_a0b5_5c260a708970row4_col0\" class=\"data row4 col0\" >54</td>\n",
       "                        <td id=\"T_b41bf468_17ac_11ea_a0b5_5c260a708970row4_col1\" class=\"data row4 col1\" >$3.44</td>\n",
       "                        <td id=\"T_b41bf468_17ac_11ea_a0b5_5c260a708970row4_col2\" class=\"data row4 col2\" >$185.91</td>\n",
       "            </tr>\n",
       "    </tbody></table>"
      ],
      "text/plain": [
       "<pandas.io.formats.style.Styler at 0x2cef38926d8>"
      ]
     },
     "execution_count": 17,
     "metadata": {},
     "output_type": "execute_result"
    }
   ],
   "source": [
    "# Create year bins\n",
    "bins = [0, 12, 18, 23, 34, 100]\n",
    "groups = [\"12 & Under\",\"13-18 (High School)\",\"19-23 (College)\",\"24-34 (Post Grad)\",\"Over 35\"]\n",
    "\n",
    "# Assign column with age group name\n",
    "age_df = purchase_data_df\n",
    "age_df[\"Age Group\"] = pd.cut(age_df[\"Age\"], bins, labels=groups)\n",
    "\n",
    "# Group by age group\n",
    "age_df = age_df.groupby(\"Age Group\")[\"Price\"].agg([\"count\",\"mean\",\"sum\"])\n",
    "\n",
    "# Rename columns\n",
    "age_df = age_df.rename(columns={\n",
    "    \"count\":\"Purchase Count\",\n",
    "    \"mean\":\"Average Purchase\",\n",
    "    \"sum\":\"Total Revenue\"})\n",
    "\n",
    "# Format columns\n",
    "format_dict = {\n",
    "    \"Total Revenue\":\"${0:,.2f}\", \n",
    "    \"Average Purchase\":\"${0:,.2f}\"}\n",
    "age_df = age_df.style.format(format_dict)\n",
    "\n",
    "# Print\n",
    "print(\"Age Demograpics\")\n",
    "age_df"
   ]
  },
  {
   "cell_type": "markdown",
   "metadata": {},
   "source": [
    "# Top Spenders\n",
    "    # Identify the the top 5 spenders in the game by total purchase value, then list (in a table):\n",
    "        # SN\n",
    "        # Purchase Count\n",
    "        # Average Purchase Price\n",
    "        # Total Purchase Value"
   ]
  },
  {
   "cell_type": "code",
   "execution_count": 33,
   "metadata": {},
   "outputs": [
    {
     "name": "stdout",
     "output_type": "stream",
     "text": [
      "Top 5 Spenders\n"
     ]
    },
    {
     "data": {
      "text/html": [
       "<style  type=\"text/css\" >\n",
       "</style><table id=\"T_fa78b58c_171a_11ea_8ac1_5c260a708970\" ><thead>    <tr>        <th class=\"blank level0\" ></th>        <th class=\"col_heading level0 col0\" >Purchase Count</th>        <th class=\"col_heading level0 col1\" >Average Spend</th>        <th class=\"col_heading level0 col2\" >Total Revenue</th>    </tr>    <tr>        <th class=\"index_name level0\" >SN</th>        <th class=\"blank\" ></th>        <th class=\"blank\" ></th>        <th class=\"blank\" ></th>    </tr></thead><tbody>\n",
       "                <tr>\n",
       "                        <th id=\"T_fa78b58c_171a_11ea_8ac1_5c260a708970level0_row0\" class=\"row_heading level0 row0\" >Lisosia93</th>\n",
       "                        <td id=\"T_fa78b58c_171a_11ea_8ac1_5c260a708970row0_col0\" class=\"data row0 col0\" >5</td>\n",
       "                        <td id=\"T_fa78b58c_171a_11ea_8ac1_5c260a708970row0_col1\" class=\"data row0 col1\" >$3.79</td>\n",
       "                        <td id=\"T_fa78b58c_171a_11ea_8ac1_5c260a708970row0_col2\" class=\"data row0 col2\" >$18.96</td>\n",
       "            </tr>\n",
       "            <tr>\n",
       "                        <th id=\"T_fa78b58c_171a_11ea_8ac1_5c260a708970level0_row1\" class=\"row_heading level0 row1\" >Idastidru52</th>\n",
       "                        <td id=\"T_fa78b58c_171a_11ea_8ac1_5c260a708970row1_col0\" class=\"data row1 col0\" >4</td>\n",
       "                        <td id=\"T_fa78b58c_171a_11ea_8ac1_5c260a708970row1_col1\" class=\"data row1 col1\" >$3.86</td>\n",
       "                        <td id=\"T_fa78b58c_171a_11ea_8ac1_5c260a708970row1_col2\" class=\"data row1 col2\" >$15.45</td>\n",
       "            </tr>\n",
       "            <tr>\n",
       "                        <th id=\"T_fa78b58c_171a_11ea_8ac1_5c260a708970level0_row2\" class=\"row_heading level0 row2\" >Chamjask73</th>\n",
       "                        <td id=\"T_fa78b58c_171a_11ea_8ac1_5c260a708970row2_col0\" class=\"data row2 col0\" >3</td>\n",
       "                        <td id=\"T_fa78b58c_171a_11ea_8ac1_5c260a708970row2_col1\" class=\"data row2 col1\" >$4.61</td>\n",
       "                        <td id=\"T_fa78b58c_171a_11ea_8ac1_5c260a708970row2_col2\" class=\"data row2 col2\" >$13.83</td>\n",
       "            </tr>\n",
       "            <tr>\n",
       "                        <th id=\"T_fa78b58c_171a_11ea_8ac1_5c260a708970level0_row3\" class=\"row_heading level0 row3\" >Iral74</th>\n",
       "                        <td id=\"T_fa78b58c_171a_11ea_8ac1_5c260a708970row3_col0\" class=\"data row3 col0\" >4</td>\n",
       "                        <td id=\"T_fa78b58c_171a_11ea_8ac1_5c260a708970row3_col1\" class=\"data row3 col1\" >$3.40</td>\n",
       "                        <td id=\"T_fa78b58c_171a_11ea_8ac1_5c260a708970row3_col2\" class=\"data row3 col2\" >$13.62</td>\n",
       "            </tr>\n",
       "            <tr>\n",
       "                        <th id=\"T_fa78b58c_171a_11ea_8ac1_5c260a708970level0_row4\" class=\"row_heading level0 row4\" >Iskadarya95</th>\n",
       "                        <td id=\"T_fa78b58c_171a_11ea_8ac1_5c260a708970row4_col0\" class=\"data row4 col0\" >3</td>\n",
       "                        <td id=\"T_fa78b58c_171a_11ea_8ac1_5c260a708970row4_col1\" class=\"data row4 col1\" >$4.37</td>\n",
       "                        <td id=\"T_fa78b58c_171a_11ea_8ac1_5c260a708970row4_col2\" class=\"data row4 col2\" >$13.10</td>\n",
       "            </tr>\n",
       "    </tbody></table>"
      ],
      "text/plain": [
       "<pandas.io.formats.style.Styler at 0x23fd423ae48>"
      ]
     },
     "execution_count": 33,
     "metadata": {},
     "output_type": "execute_result"
    }
   ],
   "source": [
    "# Group SN by spend (price)\n",
    "top_spenders_df = purchase_data_df.groupby(\"SN\")[\"Price\"].agg([\"count\",\"mean\",\"sum\"])\n",
    "\n",
    "# Rename columns\n",
    "top_spenders_df = top_spenders_df.rename(columns={\n",
    "    \"count\":\"Purchase Count\",\n",
    "    \"mean\":\"Average Spend\",\n",
    "    \"sum\":\"Total Revenue\"})\n",
    "\n",
    "# Format columns\n",
    "format_dict = {\n",
    "    \"Total Revenue\":\"${0:,.2f}\", \n",
    "    \"Average Spend\":\"${0:,.2f}\"}\n",
    "\n",
    "# Print\n",
    "print(\"Top 5 Spenders\")\n",
    "top_spenders_df.sort_values(by=\"Total Revenue\", ascending=False).head(5).style.format(format_dict)"
   ]
  },
  {
   "cell_type": "markdown",
   "metadata": {},
   "source": [
    "# Most Popular Items\n",
    "    # Identify the 5 most popular items by purchase count, then list (in a table):\n",
    "        # Item ID\n",
    "        # Item Name\n",
    "        # Purchase Count\n",
    "        # Item Price\n",
    "        # Total Purchase Value"
   ]
  },
  {
   "cell_type": "code",
   "execution_count": 11,
   "metadata": {},
   "outputs": [
    {
     "name": "stdout",
     "output_type": "stream",
     "text": [
      "~ Most Popular Items ~\n"
     ]
    },
    {
     "data": {
      "text/html": [
       "<style  type=\"text/css\" >\n",
       "</style><table id=\"T_ffa453ae_1715_11ea_9dc1_5c260a708970\" ><thead>    <tr>        <th class=\"blank\" ></th>        <th class=\"blank\" ></th>        <th class=\"blank level0\" ></th>        <th class=\"col_heading level0 col0\" >Number Purchased Items</th>        <th class=\"col_heading level0 col1\" >Total of Purchases</th>    </tr>    <tr>        <th class=\"index_name level0\" >Item ID</th>        <th class=\"index_name level1\" >Item Name</th>        <th class=\"index_name level2\" >Price</th>        <th class=\"blank\" ></th>        <th class=\"blank\" ></th>    </tr></thead><tbody>\n",
       "                <tr>\n",
       "                        <th id=\"T_ffa453ae_1715_11ea_9dc1_5c260a708970level0_row0\" class=\"row_heading level0 row0\" >178</th>\n",
       "                        <th id=\"T_ffa453ae_1715_11ea_9dc1_5c260a708970level1_row0\" class=\"row_heading level1 row0\" >Oathbreaker, Last Hope of the Breaking Storm</th>\n",
       "                        <th id=\"T_ffa453ae_1715_11ea_9dc1_5c260a708970level2_row0\" class=\"row_heading level2 row0\" >4.23</th>\n",
       "                        <td id=\"T_ffa453ae_1715_11ea_9dc1_5c260a708970row0_col0\" class=\"data row0 col0\" >12</td>\n",
       "                        <td id=\"T_ffa453ae_1715_11ea_9dc1_5c260a708970row0_col1\" class=\"data row0 col1\" >$50.76</td>\n",
       "            </tr>\n",
       "            <tr>\n",
       "                        <th id=\"T_ffa453ae_1715_11ea_9dc1_5c260a708970level0_row1\" class=\"row_heading level0 row1\" >145</th>\n",
       "                        <th id=\"T_ffa453ae_1715_11ea_9dc1_5c260a708970level1_row1\" class=\"row_heading level1 row1\" >Fiery Glass Crusader</th>\n",
       "                        <th id=\"T_ffa453ae_1715_11ea_9dc1_5c260a708970level2_row1\" class=\"row_heading level2 row1\" >4.58</th>\n",
       "                        <td id=\"T_ffa453ae_1715_11ea_9dc1_5c260a708970row1_col0\" class=\"data row1 col0\" >9</td>\n",
       "                        <td id=\"T_ffa453ae_1715_11ea_9dc1_5c260a708970row1_col1\" class=\"data row1 col1\" >$41.22</td>\n",
       "            </tr>\n",
       "            <tr>\n",
       "                        <th id=\"T_ffa453ae_1715_11ea_9dc1_5c260a708970level0_row2\" class=\"row_heading level0 row2\" >108</th>\n",
       "                        <th id=\"T_ffa453ae_1715_11ea_9dc1_5c260a708970level1_row2\" class=\"row_heading level1 row2\" >Extraction, Quickblade Of Trembling Hands</th>\n",
       "                        <th id=\"T_ffa453ae_1715_11ea_9dc1_5c260a708970level2_row2\" class=\"row_heading level2 row2\" >3.53</th>\n",
       "                        <td id=\"T_ffa453ae_1715_11ea_9dc1_5c260a708970row2_col0\" class=\"data row2 col0\" >9</td>\n",
       "                        <td id=\"T_ffa453ae_1715_11ea_9dc1_5c260a708970row2_col1\" class=\"data row2 col1\" >$31.77</td>\n",
       "            </tr>\n",
       "            <tr>\n",
       "                        <th id=\"T_ffa453ae_1715_11ea_9dc1_5c260a708970level0_row3\" class=\"row_heading level0 row3\" >82</th>\n",
       "                        <th id=\"T_ffa453ae_1715_11ea_9dc1_5c260a708970level1_row3\" class=\"row_heading level1 row3\" >Nirvana</th>\n",
       "                        <th id=\"T_ffa453ae_1715_11ea_9dc1_5c260a708970level2_row3\" class=\"row_heading level2 row3\" >4.9</th>\n",
       "                        <td id=\"T_ffa453ae_1715_11ea_9dc1_5c260a708970row3_col0\" class=\"data row3 col0\" >9</td>\n",
       "                        <td id=\"T_ffa453ae_1715_11ea_9dc1_5c260a708970row3_col1\" class=\"data row3 col1\" >$44.10</td>\n",
       "            </tr>\n",
       "            <tr>\n",
       "                        <th id=\"T_ffa453ae_1715_11ea_9dc1_5c260a708970level0_row4\" class=\"row_heading level0 row4\" >19</th>\n",
       "                        <th id=\"T_ffa453ae_1715_11ea_9dc1_5c260a708970level1_row4\" class=\"row_heading level1 row4\" >Pursuit, Cudgel of Necromancy</th>\n",
       "                        <th id=\"T_ffa453ae_1715_11ea_9dc1_5c260a708970level2_row4\" class=\"row_heading level2 row4\" >1.02</th>\n",
       "                        <td id=\"T_ffa453ae_1715_11ea_9dc1_5c260a708970row4_col0\" class=\"data row4 col0\" >8</td>\n",
       "                        <td id=\"T_ffa453ae_1715_11ea_9dc1_5c260a708970row4_col1\" class=\"data row4 col1\" >$8.16</td>\n",
       "            </tr>\n",
       "    </tbody></table>"
      ],
      "text/plain": [
       "<pandas.io.formats.style.Styler at 0x23fd38789e8>"
      ]
     },
     "execution_count": 11,
     "metadata": {},
     "output_type": "execute_result"
    }
   ],
   "source": [
    "# Create DF with purchase information by most purchase counts\n",
    "most_popular_df = purchase_data_df.groupby([\"Item ID\",\"Item Name\",\"Price\"])[\"Price\"].agg([\"count\", \"sum\"])\n",
    "\n",
    "# Rename calculation columns\n",
    "most_popular_df = most_popular_df.rename(columns={\n",
    "    \"count\":\"Number Purchased Items\",\n",
    "    \"sum\":\"Total of Purchases\"})\n",
    "\n",
    "# Format columns\n",
    "format_dict = {\"Total of Purchases\":\"${0:,.2f}\"}\n",
    "\n",
    "#Print\n",
    "print(\"~ Most Popular Items ~\")\n",
    "most_popular_df.sort_values(by=\"Number Purchased Items\", ascending=False).head(5).style.format(format_dict)"
   ]
  },
  {
   "cell_type": "markdown",
   "metadata": {},
   "source": [
    "# Most Profitable Items\n",
    "    # Identify the 5 most profitable items by total purchase value, then list (in a table):\n",
    "        # Item ID\n",
    "        # Item Name\n",
    "        # Purchase Count\n",
    "        # Item Price\n",
    "        # Total Purchase Value"
   ]
  },
  {
   "cell_type": "code",
   "execution_count": 12,
   "metadata": {},
   "outputs": [
    {
     "name": "stdout",
     "output_type": "stream",
     "text": [
      "~ Most Profitable Items ~\n"
     ]
    },
    {
     "data": {
      "text/html": [
       "<style  type=\"text/css\" >\n",
       "</style><table id=\"T_ffa9d162_1715_11ea_a04e_5c260a708970\" ><thead>    <tr>        <th class=\"blank\" ></th>        <th class=\"blank\" ></th>        <th class=\"blank level0\" ></th>        <th class=\"col_heading level0 col0\" >Number Purchased Items</th>        <th class=\"col_heading level0 col1\" >Total of Purchases</th>    </tr>    <tr>        <th class=\"index_name level0\" >Item ID</th>        <th class=\"index_name level1\" >Item Name</th>        <th class=\"index_name level2\" >Price</th>        <th class=\"blank\" ></th>        <th class=\"blank\" ></th>    </tr></thead><tbody>\n",
       "                <tr>\n",
       "                        <th id=\"T_ffa9d162_1715_11ea_a04e_5c260a708970level0_row0\" class=\"row_heading level0 row0\" >178</th>\n",
       "                        <th id=\"T_ffa9d162_1715_11ea_a04e_5c260a708970level1_row0\" class=\"row_heading level1 row0\" >Oathbreaker, Last Hope of the Breaking Storm</th>\n",
       "                        <th id=\"T_ffa9d162_1715_11ea_a04e_5c260a708970level2_row0\" class=\"row_heading level2 row0\" >4.23</th>\n",
       "                        <td id=\"T_ffa9d162_1715_11ea_a04e_5c260a708970row0_col0\" class=\"data row0 col0\" >12</td>\n",
       "                        <td id=\"T_ffa9d162_1715_11ea_a04e_5c260a708970row0_col1\" class=\"data row0 col1\" >$50.76</td>\n",
       "            </tr>\n",
       "            <tr>\n",
       "                        <th id=\"T_ffa9d162_1715_11ea_a04e_5c260a708970level0_row1\" class=\"row_heading level0 row1\" >82</th>\n",
       "                        <th id=\"T_ffa9d162_1715_11ea_a04e_5c260a708970level1_row1\" class=\"row_heading level1 row1\" >Nirvana</th>\n",
       "                        <th id=\"T_ffa9d162_1715_11ea_a04e_5c260a708970level2_row1\" class=\"row_heading level2 row1\" >4.9</th>\n",
       "                        <td id=\"T_ffa9d162_1715_11ea_a04e_5c260a708970row1_col0\" class=\"data row1 col0\" >9</td>\n",
       "                        <td id=\"T_ffa9d162_1715_11ea_a04e_5c260a708970row1_col1\" class=\"data row1 col1\" >$44.10</td>\n",
       "            </tr>\n",
       "            <tr>\n",
       "                        <th id=\"T_ffa9d162_1715_11ea_a04e_5c260a708970level0_row2\" class=\"row_heading level0 row2\" >145</th>\n",
       "                        <th id=\"T_ffa9d162_1715_11ea_a04e_5c260a708970level1_row2\" class=\"row_heading level1 row2\" >Fiery Glass Crusader</th>\n",
       "                        <th id=\"T_ffa9d162_1715_11ea_a04e_5c260a708970level2_row2\" class=\"row_heading level2 row2\" >4.58</th>\n",
       "                        <td id=\"T_ffa9d162_1715_11ea_a04e_5c260a708970row2_col0\" class=\"data row2 col0\" >9</td>\n",
       "                        <td id=\"T_ffa9d162_1715_11ea_a04e_5c260a708970row2_col1\" class=\"data row2 col1\" >$41.22</td>\n",
       "            </tr>\n",
       "            <tr>\n",
       "                        <th id=\"T_ffa9d162_1715_11ea_a04e_5c260a708970level0_row3\" class=\"row_heading level0 row3\" >92</th>\n",
       "                        <th id=\"T_ffa9d162_1715_11ea_a04e_5c260a708970level1_row3\" class=\"row_heading level1 row3\" >Final Critic</th>\n",
       "                        <th id=\"T_ffa9d162_1715_11ea_a04e_5c260a708970level2_row3\" class=\"row_heading level2 row3\" >4.88</th>\n",
       "                        <td id=\"T_ffa9d162_1715_11ea_a04e_5c260a708970row3_col0\" class=\"data row3 col0\" >8</td>\n",
       "                        <td id=\"T_ffa9d162_1715_11ea_a04e_5c260a708970row3_col1\" class=\"data row3 col1\" >$39.04</td>\n",
       "            </tr>\n",
       "            <tr>\n",
       "                        <th id=\"T_ffa9d162_1715_11ea_a04e_5c260a708970level0_row4\" class=\"row_heading level0 row4\" >103</th>\n",
       "                        <th id=\"T_ffa9d162_1715_11ea_a04e_5c260a708970level1_row4\" class=\"row_heading level1 row4\" >Singed Scalpel</th>\n",
       "                        <th id=\"T_ffa9d162_1715_11ea_a04e_5c260a708970level2_row4\" class=\"row_heading level2 row4\" >4.35</th>\n",
       "                        <td id=\"T_ffa9d162_1715_11ea_a04e_5c260a708970row4_col0\" class=\"data row4 col0\" >8</td>\n",
       "                        <td id=\"T_ffa9d162_1715_11ea_a04e_5c260a708970row4_col1\" class=\"data row4 col1\" >$34.80</td>\n",
       "            </tr>\n",
       "    </tbody></table>"
      ],
      "text/plain": [
       "<pandas.io.formats.style.Styler at 0x23fd388e400>"
      ]
     },
     "execution_count": 12,
     "metadata": {},
     "output_type": "execute_result"
    }
   ],
   "source": [
    "# Create DF with purchase information by most purchase amount\n",
    "most_popular_df = purchase_data_df.groupby([\"Item ID\",\"Item Name\",\"Price\"])[\"Price\"].agg([\"count\", \"sum\"])\n",
    "\n",
    "# Rename calculation columns\n",
    "most_popular_df = most_popular_df.rename(columns={\n",
    "    \"count\":\"Number Purchased Items\",\n",
    "    \"sum\":\"Total of Purchases\"})\n",
    "\n",
    "# Format columns\n",
    "format_dict = {\"Total of Purchases\":\"${0:,.2f}\"}\n",
    "\n",
    "#Print\n",
    "print(\"~ Most Profitable Items ~\")\n",
    "most_popular_df.sort_values(by=\"Total of Purchases\", ascending=False).head(5).style.format(format_dict)"
   ]
  },
  {
   "cell_type": "code",
   "execution_count": null,
   "metadata": {},
   "outputs": [],
   "source": []
  }
 ],
 "metadata": {
  "kernelspec": {
   "display_name": "Python 3",
   "language": "python",
   "name": "python3"
  },
  "language_info": {
   "codemirror_mode": {
    "name": "ipython",
    "version": 3
   },
   "file_extension": ".py",
   "mimetype": "text/x-python",
   "name": "python",
   "nbconvert_exporter": "python",
   "pygments_lexer": "ipython3",
   "version": "3.6.9"
  }
 },
 "nbformat": 4,
 "nbformat_minor": 2
}
