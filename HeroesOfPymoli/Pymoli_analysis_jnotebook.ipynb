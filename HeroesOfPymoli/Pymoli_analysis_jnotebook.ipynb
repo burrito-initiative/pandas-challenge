{
 "cells": [
  {
   "cell_type": "code",
   "execution_count": 1,
   "metadata": {},
   "outputs": [],
   "source": [
    "#Import Dependencies\n",
    "import pandas as pd\n",
    "import numpy as np"
   ]
  },
  {
   "cell_type": "code",
   "execution_count": 2,
   "metadata": {},
   "outputs": [],
   "source": [
    "#Import file\n",
    "csv_file = \"Resources/purchase_data.csv\"\n",
    "purchase_data_df = pd.read_csv(csv_file)"
   ]
  },
  {
   "cell_type": "code",
   "execution_count": 3,
   "metadata": {},
   "outputs": [],
   "source": [
    "#Preview dataframe\n",
    "# purchase_data_df.head()"
   ]
  },
  {
   "cell_type": "code",
   "execution_count": 4,
   "metadata": {
    "scrolled": true
   },
   "outputs": [
    {
     "data": {
      "text/html": [
       "<div>\n",
       "<style scoped>\n",
       "    .dataframe tbody tr th:only-of-type {\n",
       "        vertical-align: middle;\n",
       "    }\n",
       "\n",
       "    .dataframe tbody tr th {\n",
       "        vertical-align: top;\n",
       "    }\n",
       "\n",
       "    .dataframe thead th {\n",
       "        text-align: right;\n",
       "    }\n",
       "</style>\n",
       "<table border=\"1\" class=\"dataframe\">\n",
       "  <thead>\n",
       "    <tr style=\"text-align: right;\">\n",
       "      <th></th>\n",
       "      <th>Unique Players</th>\n",
       "    </tr>\n",
       "  </thead>\n",
       "  <tbody>\n",
       "    <tr>\n",
       "      <th>0</th>\n",
       "      <td>576</td>\n",
       "    </tr>\n",
       "  </tbody>\n",
       "</table>\n",
       "</div>"
      ],
      "text/plain": [
       "   Unique Players\n",
       "0             576"
      ]
     },
     "execution_count": 4,
     "metadata": {},
     "output_type": "execute_result"
    }
   ],
   "source": [
    "# Player Count\n",
    "total_unique_players = purchase_data_df[\"SN\"].nunique()\n",
    "\n",
    "# Pull into DF\n",
    "total_unique_players = pd.DataFrame({\"Unique Players\": [total_unique_players]})\n",
    "\n",
    "# Print\n",
    "total_unique_players"
   ]
  },
  {
   "cell_type": "code",
   "execution_count": 5,
   "metadata": {},
   "outputs": [],
   "source": [
    "## Purchasing Analysis (Total)\n",
    "    # Number of Unique Items\n",
    "    # Average Purchase Price\n",
    "    # Total Number of Purchases\n",
    "    # Total Revenue"
   ]
  },
  {
   "cell_type": "code",
   "execution_count": 8,
   "metadata": {},
   "outputs": [
    {
     "name": "stdout",
     "output_type": "stream",
     "text": [
      "~ PURCHASING ANALYSIS ~\n"
     ]
    },
    {
     "data": {
      "text/html": [
       "<style  type=\"text/css\" >\n",
       "</style><table id=\"T_7c96c3ec_1947_11ea_8be0_5c260a708970\" ><thead>    <tr>        <th class=\"blank level0\" ></th>        <th class=\"col_heading level0 col0\" >Number Unique Items</th>        <th class=\"col_heading level0 col1\" >Total Number Purchases</th>        <th class=\"col_heading level0 col2\" >Average Purhcase Price</th>        <th class=\"col_heading level0 col3\" >Total Revenue</th>    </tr></thead><tbody>\n",
       "                <tr>\n",
       "                        <th id=\"T_7c96c3ec_1947_11ea_8be0_5c260a708970level0_row0\" class=\"row_heading level0 row0\" >0</th>\n",
       "                        <td id=\"T_7c96c3ec_1947_11ea_8be0_5c260a708970row0_col0\" class=\"data row0 col0\" >183</td>\n",
       "                        <td id=\"T_7c96c3ec_1947_11ea_8be0_5c260a708970row0_col1\" class=\"data row0 col1\" >780</td>\n",
       "                        <td id=\"T_7c96c3ec_1947_11ea_8be0_5c260a708970row0_col2\" class=\"data row0 col2\" >$3.05</td>\n",
       "                        <td id=\"T_7c96c3ec_1947_11ea_8be0_5c260a708970row0_col3\" class=\"data row0 col3\" >$2,379.77</td>\n",
       "            </tr>\n",
       "    </tbody></table>"
      ],
      "text/plain": [
       "<pandas.io.formats.style.Styler at 0x1e7fa3cc080>"
      ]
     },
     "execution_count": 8,
     "metadata": {},
     "output_type": "execute_result"
    }
   ],
   "source": [
    "# Purchase Information Collection\n",
    "unique_items = purchase_data_df[\"Item ID\"].nunique()\n",
    "total_rev = purchase_data_df[\"Price\"].sum()\n",
    "purchase_count = purchase_data_df[\"Item ID\"].count()\n",
    "avg_purchase = (total_rev/purchase_count)\n",
    "\n",
    "# Pull lists into DF\n",
    "purchase_analysis = pd.DataFrame({\n",
    "    \"Number Unique Items\":[unique_items],\n",
    "    \"Total Number Purchases\":[purchase_count],\n",
    "    \"Average Purhcase Price\":[avg_purchase],\n",
    "    \"Total Revenue\":[total_rev]})\n",
    "\n",
    "# Format DF\n",
    "purchase_analysis_format_dict = {\n",
    "    \"Average Purhcase Price\":\"${0:,.2f}\",\n",
    "    \"Total Revenue\":\"${0:,.2f}\"}\n",
    "purchase_analysis = purchase_analysis.style.format(purchase_analysis_format_dict)\n",
    "\n",
    "# Print\n",
    "print(\"~ PURCHASING ANALYSIS ~\")\n",
    "purchase_analysis"
   ]
  },
  {
   "cell_type": "code",
   "execution_count": null,
   "metadata": {},
   "outputs": [],
   "source": [
    "# Gender Demographics\n",
    "    # Percentage and Count of Male Players\n",
    "    # Percentage and Count of Female Players\n",
    "    # Percentage and Count of Other / Non-Disclosed"
   ]
  },
  {
   "cell_type": "code",
   "execution_count": 10,
   "metadata": {},
   "outputs": [
    {
     "name": "stdout",
     "output_type": "stream",
     "text": [
      "~ GENDER DEMOGRAPHICS ~\n"
     ]
    },
    {
     "data": {
      "text/html": [
       "<style  type=\"text/css\" >\n",
       "</style><table id=\"T_b182533a_1947_11ea_8102_5c260a708970\" ><thead>    <tr>        <th class=\"blank level0\" ></th>        <th class=\"col_heading level0 col0\" >Number of Players</th>        <th class=\"col_heading level0 col1\" >Percent of Players</th>    </tr></thead><tbody>\n",
       "                <tr>\n",
       "                        <th id=\"T_b182533a_1947_11ea_8102_5c260a708970level0_row0\" class=\"row_heading level0 row0\" >Male</th>\n",
       "                        <td id=\"T_b182533a_1947_11ea_8102_5c260a708970row0_col0\" class=\"data row0 col0\" >652</td>\n",
       "                        <td id=\"T_b182533a_1947_11ea_8102_5c260a708970row0_col1\" class=\"data row0 col1\" >83.59%</td>\n",
       "            </tr>\n",
       "            <tr>\n",
       "                        <th id=\"T_b182533a_1947_11ea_8102_5c260a708970level0_row1\" class=\"row_heading level0 row1\" >Female</th>\n",
       "                        <td id=\"T_b182533a_1947_11ea_8102_5c260a708970row1_col0\" class=\"data row1 col0\" >113</td>\n",
       "                        <td id=\"T_b182533a_1947_11ea_8102_5c260a708970row1_col1\" class=\"data row1 col1\" >14.49%</td>\n",
       "            </tr>\n",
       "            <tr>\n",
       "                        <th id=\"T_b182533a_1947_11ea_8102_5c260a708970level0_row2\" class=\"row_heading level0 row2\" >Other / Non-Disclosed</th>\n",
       "                        <td id=\"T_b182533a_1947_11ea_8102_5c260a708970row2_col0\" class=\"data row2 col0\" >15</td>\n",
       "                        <td id=\"T_b182533a_1947_11ea_8102_5c260a708970row2_col1\" class=\"data row2 col1\" >1.92%</td>\n",
       "            </tr>\n",
       "    </tbody></table>"
      ],
      "text/plain": [
       "<pandas.io.formats.style.Styler at 0x1e7fa3cc390>"
      ]
     },
     "execution_count": 10,
     "metadata": {},
     "output_type": "execute_result"
    }
   ],
   "source": [
    "# Create list of values\n",
    "gender_player_count = purchase_data_df[\"Gender\"].value_counts()\n",
    "all_player_count = purchase_data_df[\"Item ID\"].count()\n",
    "player_percent = gender_player_count/all_player_count\n",
    "\n",
    "# Pull lists into DF\n",
    "gender_df = pd.DataFrame({\n",
    "    \"Number of Players\": gender_player_count,\n",
    "    \"Percent of Players\": player_percent})\n",
    "\n",
    "# Select columns with gender count as the DF index (by listing first) \n",
    "gender_df[[\"Number of Players\",\"Percent of Players\"]]\n",
    "\n",
    "# Format DF\n",
    "gender_df_format_dict = {\"Percent of Players\":\"{0:,.2%}\"}\n",
    "gender_df = gender_df.style.format(gender_df_format_dict)\n",
    "\n",
    "# Print\n",
    "print(\"~ GENDER DEMOGRAPHICS ~\")\n",
    "gender_df"
   ]
  },
  {
   "cell_type": "code",
   "execution_count": 11,
   "metadata": {},
   "outputs": [],
   "source": [
    "# Purchasing Analysis (Gender)\n",
    "    # The below each broken by gender\n",
    "        # Purchase Count\n",
    "        # Average Purchase Price\n",
    "        # Total Purchase Value\n",
    "        # Average Purchase Total per Person by Gender"
   ]
  },
  {
   "cell_type": "code",
   "execution_count": 13,
   "metadata": {},
   "outputs": [
    {
     "name": "stdout",
     "output_type": "stream",
     "text": [
      "~ PURCHASING ANALYSIS ~\n"
     ]
    },
    {
     "data": {
      "text/html": [
       "<style  type=\"text/css\" >\n",
       "</style><table id=\"T_dd57d980_1947_11ea_b178_5c260a708970\" ><thead>    <tr>        <th class=\"blank level0\" ></th>        <th class=\"col_heading level0 col0\" >Number of Purchases</th>        <th class=\"col_heading level0 col1\" >Total Revenue</th>        <th class=\"col_heading level0 col2\" >Average Purchase</th>        <th class=\"col_heading level0 col3\" >Average Purchase by Person</th>    </tr>    <tr>        <th class=\"index_name level0\" >Gender</th>        <th class=\"blank\" ></th>        <th class=\"blank\" ></th>        <th class=\"blank\" ></th>        <th class=\"blank\" ></th>    </tr></thead><tbody>\n",
       "                <tr>\n",
       "                        <th id=\"T_dd57d980_1947_11ea_b178_5c260a708970level0_row0\" class=\"row_heading level0 row0\" >Female</th>\n",
       "                        <td id=\"T_dd57d980_1947_11ea_b178_5c260a708970row0_col0\" class=\"data row0 col0\" >113</td>\n",
       "                        <td id=\"T_dd57d980_1947_11ea_b178_5c260a708970row0_col1\" class=\"data row0 col1\" >$361.94</td>\n",
       "                        <td id=\"T_dd57d980_1947_11ea_b178_5c260a708970row0_col2\" class=\"data row0 col2\" >$3.20</td>\n",
       "                        <td id=\"T_dd57d980_1947_11ea_b178_5c260a708970row0_col3\" class=\"data row0 col3\" >$4.47</td>\n",
       "            </tr>\n",
       "            <tr>\n",
       "                        <th id=\"T_dd57d980_1947_11ea_b178_5c260a708970level0_row1\" class=\"row_heading level0 row1\" >Male</th>\n",
       "                        <td id=\"T_dd57d980_1947_11ea_b178_5c260a708970row1_col0\" class=\"data row1 col0\" >652</td>\n",
       "                        <td id=\"T_dd57d980_1947_11ea_b178_5c260a708970row1_col1\" class=\"data row1 col1\" >$1,967.64</td>\n",
       "                        <td id=\"T_dd57d980_1947_11ea_b178_5c260a708970row1_col2\" class=\"data row1 col2\" >$3.02</td>\n",
       "                        <td id=\"T_dd57d980_1947_11ea_b178_5c260a708970row1_col3\" class=\"data row1 col3\" >$4.07</td>\n",
       "            </tr>\n",
       "            <tr>\n",
       "                        <th id=\"T_dd57d980_1947_11ea_b178_5c260a708970level0_row2\" class=\"row_heading level0 row2\" >Other / Non-Disclosed</th>\n",
       "                        <td id=\"T_dd57d980_1947_11ea_b178_5c260a708970row2_col0\" class=\"data row2 col0\" >15</td>\n",
       "                        <td id=\"T_dd57d980_1947_11ea_b178_5c260a708970row2_col1\" class=\"data row2 col1\" >$50.19</td>\n",
       "                        <td id=\"T_dd57d980_1947_11ea_b178_5c260a708970row2_col2\" class=\"data row2 col2\" >$3.35</td>\n",
       "                        <td id=\"T_dd57d980_1947_11ea_b178_5c260a708970row2_col3\" class=\"data row2 col3\" >$4.56</td>\n",
       "            </tr>\n",
       "    </tbody></table>"
      ],
      "text/plain": [
       "<pandas.io.formats.style.Styler at 0x1e7fa427e48>"
      ]
     },
     "execution_count": 13,
     "metadata": {},
     "output_type": "execute_result"
    }
   ],
   "source": [
    "# Create DF with purchase information by gender\n",
    "purchase_df = purchase_data_df.groupby(\"Gender\")[\"Price\"].agg([\"count\",\"sum\",\"mean\"])\n",
    "\n",
    "# # # # # # # # # # # # # # # \n",
    "# Special Report by Name by Gender\n",
    "avg_person_spend = purchase_data_df.groupby([\"SN\",\"Gender\"])[\"Price\"].sum()\n",
    "avg_person_spend_x_gender = avg_person_spend.groupby(\"Gender\").mean()\n",
    "avg_person_spend_x_gender # <-- list\n",
    "# Merge back into purchase_df\n",
    "purchase_df = pd.merge(purchase_df, avg_person_spend_x_gender, on=\"Gender\")\n",
    "# # # # # # # # # # # # # # # \n",
    "\n",
    "# Rename columns\n",
    "purchase_df = purchase_df.rename(columns={\n",
    "    \"mean\":\"Average Purchase\",\n",
    "    \"sum\":\"Total Revenue\",\n",
    "    \"count\":\"Number of Purchases\",\n",
    "    \"Price\":\"Average Purchase by Person\"})\n",
    "\n",
    "# Format columns\n",
    "purchase_df_format_dict = {\n",
    "    \"Total Revenue\":\"${0:,.2f}\", \n",
    "    \"Average Purchase\":\"${0:,.2f}\",\n",
    "    \"Average Purchase by Person\":\"${0:,.2f}\"}\n",
    "purchase_df = purchase_df.style.format(purchase_df_format_dict)\n",
    "\n",
    "# Print\n",
    "print(\"~ PURCHASING ANALYSIS ~\")\n",
    "purchase_df"
   ]
  },
  {
   "cell_type": "code",
   "execution_count": 14,
   "metadata": {},
   "outputs": [],
   "source": [
    "# Age Demographics\n",
    "    # The below each broken into bins of 4 years (i.e. <10, 10-14, 15-19, etc.)\n",
    "        # Purchase Count\n",
    "        # Average Purchase Price\n",
    "        # Total Purchase Value\n",
    "        # Average Purchase Total per Person by Age Group"
   ]
  },
  {
   "cell_type": "code",
   "execution_count": 15,
   "metadata": {},
   "outputs": [
    {
     "name": "stdout",
     "output_type": "stream",
     "text": [
      "~ AGE DEMOGRAPHICS ~\n"
     ]
    },
    {
     "data": {
      "text/html": [
       "<style  type=\"text/css\" >\n",
       "</style><table id=\"T_df5e4bb6_1947_11ea_8282_5c260a708970\" ><thead>    <tr>        <th class=\"blank level0\" ></th>        <th class=\"col_heading level0 col0\" >Purchase Count</th>        <th class=\"col_heading level0 col1\" >Average Purchase</th>        <th class=\"col_heading level0 col2\" >Total Revenue</th>    </tr>    <tr>        <th class=\"index_name level0\" >Age Group</th>        <th class=\"blank\" ></th>        <th class=\"blank\" ></th>        <th class=\"blank\" ></th>    </tr></thead><tbody>\n",
       "                <tr>\n",
       "                        <th id=\"T_df5e4bb6_1947_11ea_8282_5c260a708970level0_row0\" class=\"row_heading level0 row0\" >12 & Under</th>\n",
       "                        <td id=\"T_df5e4bb6_1947_11ea_8282_5c260a708970row0_col0\" class=\"data row0 col0\" >45</td>\n",
       "                        <td id=\"T_df5e4bb6_1947_11ea_8282_5c260a708970row0_col1\" class=\"data row0 col1\" >$3.19</td>\n",
       "                        <td id=\"T_df5e4bb6_1947_11ea_8282_5c260a708970row0_col2\" class=\"data row0 col2\" >$143.55</td>\n",
       "            </tr>\n",
       "            <tr>\n",
       "                        <th id=\"T_df5e4bb6_1947_11ea_8282_5c260a708970level0_row1\" class=\"row_heading level0 row1\" >13-18 (High School)</th>\n",
       "                        <td id=\"T_df5e4bb6_1947_11ea_8282_5c260a708970row1_col0\" class=\"data row1 col0\" >119</td>\n",
       "                        <td id=\"T_df5e4bb6_1947_11ea_8282_5c260a708970row1_col1\" class=\"data row1 col1\" >$3.02</td>\n",
       "                        <td id=\"T_df5e4bb6_1947_11ea_8282_5c260a708970row1_col2\" class=\"data row1 col2\" >$359.27</td>\n",
       "            </tr>\n",
       "            <tr>\n",
       "                        <th id=\"T_df5e4bb6_1947_11ea_8282_5c260a708970level0_row2\" class=\"row_heading level0 row2\" >19-23 (College)</th>\n",
       "                        <td id=\"T_df5e4bb6_1947_11ea_8282_5c260a708970row2_col0\" class=\"data row2 col0\" >321</td>\n",
       "                        <td id=\"T_df5e4bb6_1947_11ea_8282_5c260a708970row2_col1\" class=\"data row2 col1\" >$3.03</td>\n",
       "                        <td id=\"T_df5e4bb6_1947_11ea_8282_5c260a708970row2_col2\" class=\"data row2 col2\" >$973.82</td>\n",
       "            </tr>\n",
       "            <tr>\n",
       "                        <th id=\"T_df5e4bb6_1947_11ea_8282_5c260a708970level0_row3\" class=\"row_heading level0 row3\" >24-34 (Post Grad)</th>\n",
       "                        <td id=\"T_df5e4bb6_1947_11ea_8282_5c260a708970row3_col0\" class=\"data row3 col0\" >241</td>\n",
       "                        <td id=\"T_df5e4bb6_1947_11ea_8282_5c260a708970row3_col1\" class=\"data row3 col1\" >$2.98</td>\n",
       "                        <td id=\"T_df5e4bb6_1947_11ea_8282_5c260a708970row3_col2\" class=\"data row3 col2\" >$717.22</td>\n",
       "            </tr>\n",
       "            <tr>\n",
       "                        <th id=\"T_df5e4bb6_1947_11ea_8282_5c260a708970level0_row4\" class=\"row_heading level0 row4\" >Over 35</th>\n",
       "                        <td id=\"T_df5e4bb6_1947_11ea_8282_5c260a708970row4_col0\" class=\"data row4 col0\" >54</td>\n",
       "                        <td id=\"T_df5e4bb6_1947_11ea_8282_5c260a708970row4_col1\" class=\"data row4 col1\" >$3.44</td>\n",
       "                        <td id=\"T_df5e4bb6_1947_11ea_8282_5c260a708970row4_col2\" class=\"data row4 col2\" >$185.91</td>\n",
       "            </tr>\n",
       "    </tbody></table>"
      ],
      "text/plain": [
       "<pandas.io.formats.style.Styler at 0x1e7f9b45a58>"
      ]
     },
     "execution_count": 15,
     "metadata": {},
     "output_type": "execute_result"
    }
   ],
   "source": [
    "# Create year bins\n",
    "bins = [0, 12, 18, 23, 34, 100]\n",
    "groups = [\"12 & Under\",\"13-18 (High School)\",\"19-23 (College)\",\"24-34 (Post Grad)\",\"Over 35\"]\n",
    "\n",
    "# Assign column with age group name\n",
    "age_df = purchase_data_df\n",
    "age_df[\"Age Group\"] = pd.cut(age_df[\"Age\"], bins, labels=groups)\n",
    "\n",
    "# Group by age group for price\n",
    "age_df = age_df.groupby(\"Age Group\")[\"Price\"].agg([\"count\",\"mean\",\"sum\"])\n",
    "\n",
    "# Rename columns\n",
    "age_df = age_df.rename(columns={\n",
    "    \"count\":\"Purchase Count\",\n",
    "    \"mean\":\"Average Purchase\",\n",
    "    \"sum\":\"Total Revenue\"})\n",
    "\n",
    "# Format columns\n",
    "format_dict = {\n",
    "    \"Total Revenue\":\"${0:,.2f}\", \n",
    "    \"Average Purchase\":\"${0:,.2f}\"}\n",
    "age_df = age_df.style.format(format_dict)\n",
    "\n",
    "# Print\n",
    "print(\"~ AGE DEMOGRAPHICS ~\")\n",
    "age_df"
   ]
  },
  {
   "cell_type": "code",
   "execution_count": 16,
   "metadata": {},
   "outputs": [],
   "source": [
    "# Top Spenders\n",
    "    # Identify the the top 5 spenders in the game by total purchase value, then list (in a table):\n",
    "        # SN\n",
    "        # Purchase Count\n",
    "        # Average Purchase Price\n",
    "        # Total Purchase Value"
   ]
  },
  {
   "cell_type": "code",
   "execution_count": 18,
   "metadata": {},
   "outputs": [
    {
     "name": "stdout",
     "output_type": "stream",
     "text": [
      "~ TOP 5 SPENDERS\n"
     ]
    },
    {
     "data": {
      "text/html": [
       "<style  type=\"text/css\" >\n",
       "</style><table id=\"T_7a149eb4_1948_11ea_9fa5_5c260a708970\" ><thead>    <tr>        <th class=\"blank level0\" ></th>        <th class=\"col_heading level0 col0\" >Purchase Count</th>        <th class=\"col_heading level0 col1\" >Average Spend</th>        <th class=\"col_heading level0 col2\" >Total Revenue</th>    </tr>    <tr>        <th class=\"index_name level0\" >SN</th>        <th class=\"blank\" ></th>        <th class=\"blank\" ></th>        <th class=\"blank\" ></th>    </tr></thead><tbody>\n",
       "                <tr>\n",
       "                        <th id=\"T_7a149eb4_1948_11ea_9fa5_5c260a708970level0_row0\" class=\"row_heading level0 row0\" >Lisosia93</th>\n",
       "                        <td id=\"T_7a149eb4_1948_11ea_9fa5_5c260a708970row0_col0\" class=\"data row0 col0\" >5</td>\n",
       "                        <td id=\"T_7a149eb4_1948_11ea_9fa5_5c260a708970row0_col1\" class=\"data row0 col1\" >$3.79</td>\n",
       "                        <td id=\"T_7a149eb4_1948_11ea_9fa5_5c260a708970row0_col2\" class=\"data row0 col2\" >$18.96</td>\n",
       "            </tr>\n",
       "            <tr>\n",
       "                        <th id=\"T_7a149eb4_1948_11ea_9fa5_5c260a708970level0_row1\" class=\"row_heading level0 row1\" >Idastidru52</th>\n",
       "                        <td id=\"T_7a149eb4_1948_11ea_9fa5_5c260a708970row1_col0\" class=\"data row1 col0\" >4</td>\n",
       "                        <td id=\"T_7a149eb4_1948_11ea_9fa5_5c260a708970row1_col1\" class=\"data row1 col1\" >$3.86</td>\n",
       "                        <td id=\"T_7a149eb4_1948_11ea_9fa5_5c260a708970row1_col2\" class=\"data row1 col2\" >$15.45</td>\n",
       "            </tr>\n",
       "            <tr>\n",
       "                        <th id=\"T_7a149eb4_1948_11ea_9fa5_5c260a708970level0_row2\" class=\"row_heading level0 row2\" >Chamjask73</th>\n",
       "                        <td id=\"T_7a149eb4_1948_11ea_9fa5_5c260a708970row2_col0\" class=\"data row2 col0\" >3</td>\n",
       "                        <td id=\"T_7a149eb4_1948_11ea_9fa5_5c260a708970row2_col1\" class=\"data row2 col1\" >$4.61</td>\n",
       "                        <td id=\"T_7a149eb4_1948_11ea_9fa5_5c260a708970row2_col2\" class=\"data row2 col2\" >$13.83</td>\n",
       "            </tr>\n",
       "            <tr>\n",
       "                        <th id=\"T_7a149eb4_1948_11ea_9fa5_5c260a708970level0_row3\" class=\"row_heading level0 row3\" >Iral74</th>\n",
       "                        <td id=\"T_7a149eb4_1948_11ea_9fa5_5c260a708970row3_col0\" class=\"data row3 col0\" >4</td>\n",
       "                        <td id=\"T_7a149eb4_1948_11ea_9fa5_5c260a708970row3_col1\" class=\"data row3 col1\" >$3.40</td>\n",
       "                        <td id=\"T_7a149eb4_1948_11ea_9fa5_5c260a708970row3_col2\" class=\"data row3 col2\" >$13.62</td>\n",
       "            </tr>\n",
       "            <tr>\n",
       "                        <th id=\"T_7a149eb4_1948_11ea_9fa5_5c260a708970level0_row4\" class=\"row_heading level0 row4\" >Iskadarya95</th>\n",
       "                        <td id=\"T_7a149eb4_1948_11ea_9fa5_5c260a708970row4_col0\" class=\"data row4 col0\" >3</td>\n",
       "                        <td id=\"T_7a149eb4_1948_11ea_9fa5_5c260a708970row4_col1\" class=\"data row4 col1\" >$4.37</td>\n",
       "                        <td id=\"T_7a149eb4_1948_11ea_9fa5_5c260a708970row4_col2\" class=\"data row4 col2\" >$13.10</td>\n",
       "            </tr>\n",
       "    </tbody></table>"
      ],
      "text/plain": [
       "<pandas.io.formats.style.Styler at 0x1e7fa427048>"
      ]
     },
     "execution_count": 18,
     "metadata": {},
     "output_type": "execute_result"
    }
   ],
   "source": [
    "# Group SN by spend (price)\n",
    "top_spenders_df = purchase_data_df.groupby(\"SN\")[\"Price\"].agg([\"count\",\"mean\",\"sum\"])\n",
    "\n",
    "# Rename columns\n",
    "top_spenders_df = top_spenders_df.rename(columns={\n",
    "    \"count\":\"Purchase Count\",\n",
    "    \"mean\":\"Average Spend\",\n",
    "    \"sum\":\"Total Revenue\"})\n",
    "\n",
    "# Format columns\n",
    "top_spenders_df_format_dict = {\n",
    "    \"Total Revenue\":\"${0:,.2f}\", \n",
    "    \"Average Spend\":\"${0:,.2f}\"}\n",
    "\n",
    "# Print\n",
    "print(\"~ TOP 5 SPENDERS\")\n",
    "top_spenders_df.sort_values(by=\"Total Revenue\", ascending=False).head(5).style.format(top_spenders_df_format_dict)"
   ]
  },
  {
   "cell_type": "code",
   "execution_count": 19,
   "metadata": {},
   "outputs": [],
   "source": [
    "# Most Popular Items\n",
    "    # Identify the 5 most popular items by purchase count, then list (in a table):\n",
    "        # Item ID\n",
    "        # Item Name\n",
    "        # Purchase Count\n",
    "        # Item Price\n",
    "        # Total Purchase Value"
   ]
  },
  {
   "cell_type": "code",
   "execution_count": 21,
   "metadata": {},
   "outputs": [
    {
     "name": "stdout",
     "output_type": "stream",
     "text": [
      "~ MOST POPULAR ITEMS ~\n"
     ]
    },
    {
     "data": {
      "text/html": [
       "<style  type=\"text/css\" >\n",
       "</style><table id=\"T_831d3d68_1948_11ea_9190_5c260a708970\" ><thead>    <tr>        <th class=\"blank\" ></th>        <th class=\"blank\" ></th>        <th class=\"blank level0\" ></th>        <th class=\"col_heading level0 col0\" >Number Purchased Items</th>        <th class=\"col_heading level0 col1\" >Total of Purchases</th>    </tr>    <tr>        <th class=\"index_name level0\" >Item ID</th>        <th class=\"index_name level1\" >Item Name</th>        <th class=\"index_name level2\" >Price</th>        <th class=\"blank\" ></th>        <th class=\"blank\" ></th>    </tr></thead><tbody>\n",
       "                <tr>\n",
       "                        <th id=\"T_831d3d68_1948_11ea_9190_5c260a708970level0_row0\" class=\"row_heading level0 row0\" >178</th>\n",
       "                        <th id=\"T_831d3d68_1948_11ea_9190_5c260a708970level1_row0\" class=\"row_heading level1 row0\" >Oathbreaker, Last Hope of the Breaking Storm</th>\n",
       "                        <th id=\"T_831d3d68_1948_11ea_9190_5c260a708970level2_row0\" class=\"row_heading level2 row0\" >4.23</th>\n",
       "                        <td id=\"T_831d3d68_1948_11ea_9190_5c260a708970row0_col0\" class=\"data row0 col0\" >12</td>\n",
       "                        <td id=\"T_831d3d68_1948_11ea_9190_5c260a708970row0_col1\" class=\"data row0 col1\" >$50.76</td>\n",
       "            </tr>\n",
       "            <tr>\n",
       "                        <th id=\"T_831d3d68_1948_11ea_9190_5c260a708970level0_row1\" class=\"row_heading level0 row1\" >145</th>\n",
       "                        <th id=\"T_831d3d68_1948_11ea_9190_5c260a708970level1_row1\" class=\"row_heading level1 row1\" >Fiery Glass Crusader</th>\n",
       "                        <th id=\"T_831d3d68_1948_11ea_9190_5c260a708970level2_row1\" class=\"row_heading level2 row1\" >4.58</th>\n",
       "                        <td id=\"T_831d3d68_1948_11ea_9190_5c260a708970row1_col0\" class=\"data row1 col0\" >9</td>\n",
       "                        <td id=\"T_831d3d68_1948_11ea_9190_5c260a708970row1_col1\" class=\"data row1 col1\" >$41.22</td>\n",
       "            </tr>\n",
       "            <tr>\n",
       "                        <th id=\"T_831d3d68_1948_11ea_9190_5c260a708970level0_row2\" class=\"row_heading level0 row2\" >108</th>\n",
       "                        <th id=\"T_831d3d68_1948_11ea_9190_5c260a708970level1_row2\" class=\"row_heading level1 row2\" >Extraction, Quickblade Of Trembling Hands</th>\n",
       "                        <th id=\"T_831d3d68_1948_11ea_9190_5c260a708970level2_row2\" class=\"row_heading level2 row2\" >3.53</th>\n",
       "                        <td id=\"T_831d3d68_1948_11ea_9190_5c260a708970row2_col0\" class=\"data row2 col0\" >9</td>\n",
       "                        <td id=\"T_831d3d68_1948_11ea_9190_5c260a708970row2_col1\" class=\"data row2 col1\" >$31.77</td>\n",
       "            </tr>\n",
       "            <tr>\n",
       "                        <th id=\"T_831d3d68_1948_11ea_9190_5c260a708970level0_row3\" class=\"row_heading level0 row3\" >82</th>\n",
       "                        <th id=\"T_831d3d68_1948_11ea_9190_5c260a708970level1_row3\" class=\"row_heading level1 row3\" >Nirvana</th>\n",
       "                        <th id=\"T_831d3d68_1948_11ea_9190_5c260a708970level2_row3\" class=\"row_heading level2 row3\" >4.9</th>\n",
       "                        <td id=\"T_831d3d68_1948_11ea_9190_5c260a708970row3_col0\" class=\"data row3 col0\" >9</td>\n",
       "                        <td id=\"T_831d3d68_1948_11ea_9190_5c260a708970row3_col1\" class=\"data row3 col1\" >$44.10</td>\n",
       "            </tr>\n",
       "            <tr>\n",
       "                        <th id=\"T_831d3d68_1948_11ea_9190_5c260a708970level0_row4\" class=\"row_heading level0 row4\" >19</th>\n",
       "                        <th id=\"T_831d3d68_1948_11ea_9190_5c260a708970level1_row4\" class=\"row_heading level1 row4\" >Pursuit, Cudgel of Necromancy</th>\n",
       "                        <th id=\"T_831d3d68_1948_11ea_9190_5c260a708970level2_row4\" class=\"row_heading level2 row4\" >1.02</th>\n",
       "                        <td id=\"T_831d3d68_1948_11ea_9190_5c260a708970row4_col0\" class=\"data row4 col0\" >8</td>\n",
       "                        <td id=\"T_831d3d68_1948_11ea_9190_5c260a708970row4_col1\" class=\"data row4 col1\" >$8.16</td>\n",
       "            </tr>\n",
       "    </tbody></table>"
      ],
      "text/plain": [
       "<pandas.io.formats.style.Styler at 0x1e7fa448f98>"
      ]
     },
     "execution_count": 21,
     "metadata": {},
     "output_type": "execute_result"
    }
   ],
   "source": [
    "# Create DF with purchase information by most purchase counts\n",
    "most_popular_df = purchase_data_df.groupby([\"Item ID\",\"Item Name\",\"Price\"])[\"Price\"].agg([\"count\", \"sum\"])\n",
    "\n",
    "# Rename calculation columns\n",
    "most_popular_df = most_popular_df.rename(columns={\n",
    "    \"count\":\"Number Purchased Items\",\n",
    "    \"sum\":\"Total of Purchases\"})\n",
    "\n",
    "# Format columns\n",
    "most_popular_format_dict = {\"Total of Purchases\":\"${0:,.2f}\"}\n",
    "\n",
    "#Print\n",
    "print(\"~ MOST POPULAR ITEMS ~\")\n",
    "most_popular_df.sort_values(by=\"Number Purchased Items\", ascending=False).head(5).style.format(most_popular_format_dict)"
   ]
  },
  {
   "cell_type": "code",
   "execution_count": 22,
   "metadata": {},
   "outputs": [],
   "source": [
    "# Most Profitable Items\n",
    "    # Identify the 5 most profitable items by total purchase value, then list (in a table):\n",
    "        # Item ID\n",
    "        # Item Name\n",
    "        # Purchase Count\n",
    "        # Item Price\n",
    "        # Total Purchase Value"
   ]
  },
  {
   "cell_type": "code",
   "execution_count": 24,
   "metadata": {},
   "outputs": [
    {
     "name": "stdout",
     "output_type": "stream",
     "text": [
      "~ MOST PROFITABLE ITEMS ~\n"
     ]
    },
    {
     "data": {
      "text/html": [
       "<style  type=\"text/css\" >\n",
       "</style><table id=\"T_8ec3cc3a_1948_11ea_9624_5c260a708970\" ><thead>    <tr>        <th class=\"blank\" ></th>        <th class=\"blank\" ></th>        <th class=\"blank level0\" ></th>        <th class=\"col_heading level0 col0\" >Number Purchased Items</th>        <th class=\"col_heading level0 col1\" >Total of Purchases</th>    </tr>    <tr>        <th class=\"index_name level0\" >Item ID</th>        <th class=\"index_name level1\" >Item Name</th>        <th class=\"index_name level2\" >Price</th>        <th class=\"blank\" ></th>        <th class=\"blank\" ></th>    </tr></thead><tbody>\n",
       "                <tr>\n",
       "                        <th id=\"T_8ec3cc3a_1948_11ea_9624_5c260a708970level0_row0\" class=\"row_heading level0 row0\" >178</th>\n",
       "                        <th id=\"T_8ec3cc3a_1948_11ea_9624_5c260a708970level1_row0\" class=\"row_heading level1 row0\" >Oathbreaker, Last Hope of the Breaking Storm</th>\n",
       "                        <th id=\"T_8ec3cc3a_1948_11ea_9624_5c260a708970level2_row0\" class=\"row_heading level2 row0\" >4.23</th>\n",
       "                        <td id=\"T_8ec3cc3a_1948_11ea_9624_5c260a708970row0_col0\" class=\"data row0 col0\" >12</td>\n",
       "                        <td id=\"T_8ec3cc3a_1948_11ea_9624_5c260a708970row0_col1\" class=\"data row0 col1\" >$50.76</td>\n",
       "            </tr>\n",
       "            <tr>\n",
       "                        <th id=\"T_8ec3cc3a_1948_11ea_9624_5c260a708970level0_row1\" class=\"row_heading level0 row1\" >82</th>\n",
       "                        <th id=\"T_8ec3cc3a_1948_11ea_9624_5c260a708970level1_row1\" class=\"row_heading level1 row1\" >Nirvana</th>\n",
       "                        <th id=\"T_8ec3cc3a_1948_11ea_9624_5c260a708970level2_row1\" class=\"row_heading level2 row1\" >4.9</th>\n",
       "                        <td id=\"T_8ec3cc3a_1948_11ea_9624_5c260a708970row1_col0\" class=\"data row1 col0\" >9</td>\n",
       "                        <td id=\"T_8ec3cc3a_1948_11ea_9624_5c260a708970row1_col1\" class=\"data row1 col1\" >$44.10</td>\n",
       "            </tr>\n",
       "            <tr>\n",
       "                        <th id=\"T_8ec3cc3a_1948_11ea_9624_5c260a708970level0_row2\" class=\"row_heading level0 row2\" >145</th>\n",
       "                        <th id=\"T_8ec3cc3a_1948_11ea_9624_5c260a708970level1_row2\" class=\"row_heading level1 row2\" >Fiery Glass Crusader</th>\n",
       "                        <th id=\"T_8ec3cc3a_1948_11ea_9624_5c260a708970level2_row2\" class=\"row_heading level2 row2\" >4.58</th>\n",
       "                        <td id=\"T_8ec3cc3a_1948_11ea_9624_5c260a708970row2_col0\" class=\"data row2 col0\" >9</td>\n",
       "                        <td id=\"T_8ec3cc3a_1948_11ea_9624_5c260a708970row2_col1\" class=\"data row2 col1\" >$41.22</td>\n",
       "            </tr>\n",
       "            <tr>\n",
       "                        <th id=\"T_8ec3cc3a_1948_11ea_9624_5c260a708970level0_row3\" class=\"row_heading level0 row3\" >92</th>\n",
       "                        <th id=\"T_8ec3cc3a_1948_11ea_9624_5c260a708970level1_row3\" class=\"row_heading level1 row3\" >Final Critic</th>\n",
       "                        <th id=\"T_8ec3cc3a_1948_11ea_9624_5c260a708970level2_row3\" class=\"row_heading level2 row3\" >4.88</th>\n",
       "                        <td id=\"T_8ec3cc3a_1948_11ea_9624_5c260a708970row3_col0\" class=\"data row3 col0\" >8</td>\n",
       "                        <td id=\"T_8ec3cc3a_1948_11ea_9624_5c260a708970row3_col1\" class=\"data row3 col1\" >$39.04</td>\n",
       "            </tr>\n",
       "            <tr>\n",
       "                        <th id=\"T_8ec3cc3a_1948_11ea_9624_5c260a708970level0_row4\" class=\"row_heading level0 row4\" >103</th>\n",
       "                        <th id=\"T_8ec3cc3a_1948_11ea_9624_5c260a708970level1_row4\" class=\"row_heading level1 row4\" >Singed Scalpel</th>\n",
       "                        <th id=\"T_8ec3cc3a_1948_11ea_9624_5c260a708970level2_row4\" class=\"row_heading level2 row4\" >4.35</th>\n",
       "                        <td id=\"T_8ec3cc3a_1948_11ea_9624_5c260a708970row4_col0\" class=\"data row4 col0\" >8</td>\n",
       "                        <td id=\"T_8ec3cc3a_1948_11ea_9624_5c260a708970row4_col1\" class=\"data row4 col1\" >$34.80</td>\n",
       "            </tr>\n",
       "    </tbody></table>"
      ],
      "text/plain": [
       "<pandas.io.formats.style.Styler at 0x1e7fa463748>"
      ]
     },
     "execution_count": 24,
     "metadata": {},
     "output_type": "execute_result"
    }
   ],
   "source": [
    "# Create DF with purchase information by most purchase amount\n",
    "most_profitable_df = purchase_data_df.groupby([\"Item ID\",\"Item Name\",\"Price\"])[\"Price\"].agg([\"count\", \"sum\"])\n",
    "\n",
    "# Rename calculation columns\n",
    "most_profitable_df = most_profitable_df.rename(columns={\n",
    "    \"count\":\"Number Purchased Items\",\n",
    "    \"sum\":\"Total of Purchases\"})\n",
    "\n",
    "# Format columns\n",
    "most_profitable_df_format_dict = {\"Total of Purchases\":\"${0:,.2f}\"}\n",
    "\n",
    "#Print\n",
    "print(\"~ MOST PROFITABLE ITEMS ~\")\n",
    "most_profitable_df.sort_values(by=\"Total of Purchases\", ascending=False).head(5).style.format(most_profitable_df_format_dict)"
   ]
  },
  {
   "cell_type": "code",
   "execution_count": null,
   "metadata": {},
   "outputs": [],
   "source": []
  }
 ],
 "metadata": {
  "kernelspec": {
   "display_name": "Python 3",
   "language": "python",
   "name": "python3"
  },
  "language_info": {
   "codemirror_mode": {
    "name": "ipython",
    "version": 3
   },
   "file_extension": ".py",
   "mimetype": "text/x-python",
   "name": "python",
   "nbconvert_exporter": "python",
   "pygments_lexer": "ipython3",
   "version": "3.6.9"
  }
 },
 "nbformat": 4,
 "nbformat_minor": 2
}
